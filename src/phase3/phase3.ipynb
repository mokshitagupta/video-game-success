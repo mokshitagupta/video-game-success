{
  "cells": [
    {
      "cell_type": "code",
      "execution_count": 1,
      "metadata": {
        "id": "zkjTiAQbQw0E"
      },
      "outputs": [],
      "source": [
        "# ! pip3 install pandas numpy\n",
        "import pandas as pd\n",
        "import numpy as np\n",
        "from datacleaning import clean_data, create_sample\n",
        "import matplotlib.pyplot as plt\n",
        "from sklearn.model_selection import train_test_split\n",
        "from sklearn.linear_model import LinearRegression\n",
        "from sklearn.metrics import accuracy_score\n",
        "from sklearn.feature_extraction.text import CountVectorizer\n",
        "from sklearn.naive_bayes import MultinomialNB\n",
        "from sklearn.ensemble import RandomForestClassifier\n",
        "from sklearn.model_selection import train_test_split\n",
        "from sklearn.metrics import accuracy_score\n",
        "import seaborn as sns\n",
        "from sklearn.metrics import confusion_matrix\n",
        "from sklearn.ensemble import GradientBoostingClassifier\n"
      ]
    },
    {
      "cell_type": "markdown",
      "metadata": {},
      "source": [
        "***Phase 3***:\n",
        "\n",
        "Random Forest Regression using Scikit-Learn library on a data frame"
      ]
    },
    {
      "cell_type": "code",
      "execution_count": 41,
      "metadata": {
        "id": "CRZ5YCFu4v9Y"
      },
      "outputs": [],
      "source": [
        "import re\n",
        "import joblib\n",
        "\n",
        "from sklearn.ensemble import RandomForestRegressor\n",
        "from sklearn.feature_extraction.text import TfidfVectorizer\n",
        "from sklearn.metrics import mean_squared_error\n",
        "\n",
        "\n",
        "def train(df):\n",
        "  # Load dataset\n",
        "  data = []\n",
        "\n",
        "  for index, row in df.iterrows():\n",
        "    data.append((row[\"summary\"],row[\"meta_score\"]))\n",
        "    # print((row[\"summary\"],row[\"meta_score\"]), \"\\n\")\n",
        "    # print(x[\"summary\"], x[\"meta_score\"])\n",
        "  # data = [(x[0], x[1]) for x in df.iterrows()]\n",
        "  print(\"done loading data\")\n",
        "  # Split data into train and test sets\n",
        "  split_index = int(0.8 * len(data))\n",
        "  train_data = np.array(data[:split_index])\n",
        "  test_data = np.array(data[split_index:])\n",
        "  print(\"done splitting data\")\n",
        "\n",
        "  # print(train_data)\n",
        "\n",
        "  X_train, y_train = train_data[:, 0], train_data[:, 1].astype(float)\n",
        "  print(\"made x,y train data\")\n",
        "  X_test, y_test = test_data[:, 0], test_data[:, 1].astype(float)\n",
        "  print(\"made x,y test data\")\n",
        "\n",
        "  # TF-IDF vectorization\n",
        "  vectorizer = TfidfVectorizer(max_features=1000)\n",
        "  print(\"starting train tfidf\")\n",
        "  X_train_tfidf = vectorizer.fit_transform(X_train)\n",
        "  print(\"starting test tfidf\")\n",
        "  X_test_tfidf = vectorizer.transform(X_test)\n",
        "\n",
        "  # initialize regressor\n",
        "  regressor = RandomForestRegressor(n_estimators=100, random_state=42)\n",
        "  print(\"fitting regressor\")\n",
        "  regressor.fit(X_train_tfidf, y_train)\n",
        "\n",
        "  # testing\n",
        "  print(\"making predictions\")\n",
        "  y_pred = regressor.predict(X_test_tfidf)\n",
        "\n",
        "  # calculate error\n",
        "  mse = mean_squared_error(y_test, y_pred)\n",
        "  print(\"Mean Squared Error:\", mse)\n",
        "\n",
        "  joblib.dump(regressor, 'random_forest_regressor.pkl')\n",
        "\n",
        "  # save the trained vectorizer\n",
        "  joblib.dump(vectorizer, 'tfidf_vectorizer.pkl')"
      ]
    },
    {
      "cell_type": "code",
      "execution_count": null,
      "metadata": {
        "colab": {
          "base_uri": "https://localhost:8080/",
          "height": 347
        },
        "id": "fcjy2aO5Qw0F",
        "outputId": "ae88c72c-0842-4393-f17d-0c13a8689b49"
      },
      "outputs": [],
      "source": [
        "df = create_sample(-1)\n",
        "train(df)"
      ]
    }
  ],
  "metadata": {
    "colab": {
      "provenance": []
    },
    "kernelspec": {
      "display_name": "Python 3",
      "language": "python",
      "name": "python3"
    },
    "language_info": {
      "codemirror_mode": {
        "name": "ipython",
        "version": 3
      },
      "file_extension": ".py",
      "mimetype": "text/x-python",
      "name": "python",
      "nbconvert_exporter": "python",
      "pygments_lexer": "ipython3",
      "version": "3.12.0"
    }
  },
  "nbformat": 4,
  "nbformat_minor": 0
}
